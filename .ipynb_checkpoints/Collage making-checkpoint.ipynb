{
 "cells": [
  {
   "cell_type": "code",
   "execution_count": 6,
   "id": "direct-boundary",
   "metadata": {},
   "outputs": [],
   "source": [
    "import cv2\n",
    "import numpy\n",
    "\n",
    "#importing images\n",
    "image1=cv2.imread(\"sample_images/image1.png\")\n",
    "image2=cv2.imread(\"sample_images/image2.png\")\n",
    "image3=cv2.imread(\"sample_images/image3.png\")\n",
    "image4=cv2.imread(\"sample_images/image4.png\")\n",
    "\n",
    "#resizing image1\n",
    "rimage1=cv2.resize(image1,(350,300))\n",
    "cv2.imshow(\"collage\",rimage1)\n",
    "cv2.waitKey()\n",
    "cv2.destroyAllWindows()\n",
    "#resizing image2\n",
    "rimage2=cv2.resize(image2,(350,300))\n",
    "cv2.imshow(\"collage\",rimage2)\n",
    "cv2.waitKey()\n",
    "cv2.destroyAllWindows()\n",
    "#resizing image3\n",
    "rimage3=cv2.resize(image3,(350,300))\n",
    "cv2.imshow(\"collage\",rimage3)\n",
    "cv2.waitKey()\n",
    "cv2.destroyAllWindows()\n",
    "#resizing image4\n",
    "rimage4=cv2.resize(image4,(350,300))\n",
    "cv2.imshow(\"collage\",rimage4)\n",
    "cv2.waitKey()\n",
    "cv2.destroyAllWindows()\n",
    "\n",
    "#making collage\n",
    "h1=numpy.hstack([rimage1,rimage2])\n",
    "h2=numpy.hstack([rimage3,rimage4])\n",
    "v_line=numpy.vstack([h1,h2])\n",
    "cv2.imshow(\"collage\",v_line)\n",
    "cv2.waitKey()\n",
    "cv2.destroyAllWindows()"
   ]
  },
  {
   "cell_type": "code",
   "execution_count": null,
   "id": "spread-detroit",
   "metadata": {},
   "outputs": [],
   "source": []
  }
 ],
 "metadata": {
  "kernelspec": {
   "display_name": "Python 3",
   "language": "python",
   "name": "python3"
  },
  "language_info": {
   "codemirror_mode": {
    "name": "ipython",
    "version": 3
   },
   "file_extension": ".py",
   "mimetype": "text/x-python",
   "name": "python",
   "nbconvert_exporter": "python",
   "pygments_lexer": "ipython3",
   "version": "3.7.7"
  }
 },
 "nbformat": 4,
 "nbformat_minor": 5
}
