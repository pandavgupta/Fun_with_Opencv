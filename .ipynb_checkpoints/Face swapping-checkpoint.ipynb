{
 "cells": [
  {
   "cell_type": "code",
   "execution_count": 1,
   "id": "charitable-array",
   "metadata": {},
   "outputs": [],
   "source": [
    "import cv2\n",
    "\n",
    "#Image before swapping\n",
    "photo=cv2.imread(\"sample_images/marvel.png\")\n",
    "cv2.imshow(\"hi\",photo)\n",
    "cv2.waitKey()\n",
    "cv2.destroyAllWindows()\n",
    "\n",
    "\n",
    "#croping first image\n",
    "photo=cv2.imread(\"sample_images/marvel.png\")\n",
    "tony_image=photo[100:180,178:238]\n",
    "cv2.imshow(\"kk\",tony_image)\n",
    "cv2.waitKey()\n",
    "cv2.destroyAllWindows()\n",
    "\n",
    "#croping first image\n",
    "photo=cv2.imread(\"sample_images/marvel.png\")\n",
    "captain_image=photo[105:185,326:386]\n",
    "cv2.imshow(\"kk\",captain_image)\n",
    "cv2.waitKey()\n",
    "cv2.destroyAllWindows()\n",
    "\n",
    "#swapping\n",
    "photo[100:180,178:238],photo[105:185,326:386]=captain_image,tony_image\n",
    "\n",
    "#Image after swapping \n",
    "cv2.imshow(\"hi\",photo)\n",
    "cv2.waitKey()\n",
    "cv2.destroyAllWindows()\n"
   ]
  },
  {
   "cell_type": "code",
   "execution_count": null,
   "id": "automotive-connecticut",
   "metadata": {},
   "outputs": [],
   "source": []
  }
 ],
 "metadata": {
  "kernelspec": {
   "display_name": "Python 3",
   "language": "python",
   "name": "python3"
  },
  "language_info": {
   "codemirror_mode": {
    "name": "ipython",
    "version": 3
   },
   "file_extension": ".py",
   "mimetype": "text/x-python",
   "name": "python",
   "nbconvert_exporter": "python",
   "pygments_lexer": "ipython3",
   "version": "3.7.7"
  }
 },
 "nbformat": 4,
 "nbformat_minor": 5
}
