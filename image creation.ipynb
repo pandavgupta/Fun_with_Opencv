{
 "cells": [
  {
   "cell_type": "code",
   "execution_count": 1,
   "id": "wrapped-klein",
   "metadata": {},
   "outputs": [],
   "source": [
    "import cv2 \n",
    "import numpy\n",
    "\n",
    "for i in range(10):\n",
    "    photo=numpy.zeros((500,800,3))  #\n",
    "    photo=cv2.circle(photo,center=(350,150),radius=45,color=(0,255,255),thickness=-1)   #head\n",
    "    photo=cv2.line(photo,pt1=(335,170),pt2=(365,170),color=(0,0,0),thickness=2) #smile line  \n",
    "    photo=cv2.circle(photo,center=(330,140),radius=5,color=(0,0,0),thickness=-1)#left eye\n",
    "    photo=cv2.circle(photo,center=(370,140),radius=5,color=(0,0,0),thickness=-1)#right eye\n",
    "    photo=cv2.line(photo,pt1=(350,195),pt2=(350,330),color=(0,255,255),thickness=10)    #spinal line\n",
    "    photo=cv2.line(photo,pt1=(350,195),pt2=(280,320),color=(0,255,255),thickness=8)    #left hand\n",
    "    photo=cv2.line(photo,pt1=(350,330),pt2=(300,430),color=(0,255,255),thickness=10)    #left leg\n",
    "    photo=cv2.line(photo,pt1=(350,330),pt2=(420,430),color=(0,255,255),thickness=10)    #right leg\n",
    "    photo=cv2.line(photo,pt1=(350,195),pt2=(430,320),color=(0,255,255),thickness=8)    #right hand\n",
    "    cv2.imshow(\"hi2\",photo)\n",
    "    if cv2.waitKey(1000)==13:\n",
    "        break\n",
    "    #Second image\n",
    "    #adding face , hand and leg\n",
    "    photo=numpy.zeros((500,800,3))  #\n",
    "    photo=cv2.circle(photo,center=(350,150),radius=45,color=(0,255,255),thickness=-1)   #head\n",
    "    photo=cv2.ellipse(photo, (350,150), (30,20),0,60,120, (0,0,0,0), (2))\n",
    "    photo=cv2.circle(photo,center=(330,140),radius=5,color=(0,0,0),thickness=-1)#left eye\n",
    "    photo=cv2.circle(photo,center=(370,140),radius=5,color=(0,0,0),thickness=-1)#right eye\n",
    "    photo=cv2.line(photo,pt1=(350,195),pt2=(350,330),color=(0,255,255),thickness=10)    #spinal line\n",
    "    photo=cv2.line(photo,pt1=(350,195),pt2=(280,320),color=(0,255,255),thickness=8)    #left hand\n",
    "    photo=cv2.line(photo,pt1=(350,330),pt2=(300,430),color=(0,255,255),thickness=10)    #left leg\n",
    "    photo=cv2.line(photo,pt1=(350,330),pt2=(420,430),color=(0,255,255),thickness=10)    #right leg\n",
    "    photo=cv2.line(photo,pt1=(350,195),pt2=(430,320),color=(0,255,255),thickness=8)    #right hand\n",
    "    cv2.imshow(\"hi2\",photo)\n",
    "    if cv2.waitKey(1000)==13:\n",
    "        break\n",
    "    #third image\n",
    "    #adding face , hand and leg\n",
    "    photo=numpy.zeros((500,800,3)) \n",
    "    photo=cv2.circle(photo,center=(350,150),radius=45,color=(0,255,255),thickness=-1)   #head\n",
    "    photo=cv2.ellipse(photo, (350,150), (30,20),0,60,120, (0,0,0,0), (2))\n",
    "    photo=cv2.circle(photo,center=(330,140),radius=5,color=(0,0,0),thickness=-1)#left eye\n",
    "    photo=cv2.circle(photo,center=(370,140),radius=5,color=(0,0,0),thickness=-1)#right eye\n",
    "    photo=cv2.line(photo,pt1=(350,195),pt2=(350,330),color=(0,255,255),thickness=10)    #spinal line\n",
    "    photo=cv2.line(photo,pt1=(350,330),pt2=(300,430),color=(0,255,255),thickness=10)    #left leg\n",
    "    photo=cv2.line(photo,pt1=(350,330),pt2=(420,430),color=(0,255,255),thickness=10)    #right leg\n",
    "    photo=cv2.line(photo,pt1=(350,195),pt2=(430,320),color=(0,255,255),thickness=8)    #right hand\n",
    "    photo=cv2.line(photo,pt1=(350,195),pt2=(320,250),color=(0,255,255),thickness=10)    \n",
    "    photo=cv2.line(photo,pt1=(320,250),pt2=(250,200),color=(0,255,255),thickness=8)     \n",
    "    cv2.imshow(\"hi2\",photo)\n",
    "    if cv2.waitKey(1000)==13:\n",
    "        break\n",
    "cv2.destroyAllWindows()"
   ]
  },
  {
   "cell_type": "code",
   "execution_count": null,
   "id": "false-wednesday",
   "metadata": {},
   "outputs": [],
   "source": []
  }
 ],
 "metadata": {
  "kernelspec": {
   "display_name": "Python 3",
   "language": "python",
   "name": "python3"
  },
  "language_info": {
   "codemirror_mode": {
    "name": "ipython",
    "version": 3
   },
   "file_extension": ".py",
   "mimetype": "text/x-python",
   "name": "python",
   "nbconvert_exporter": "python",
   "pygments_lexer": "ipython3",
   "version": "3.7.7"
  }
 },
 "nbformat": 4,
 "nbformat_minor": 5
}
